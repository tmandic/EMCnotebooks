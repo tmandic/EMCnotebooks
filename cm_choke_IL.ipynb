{
 "cells": [
  {
   "attachments": {
    "CM_HF.png": {
     "image/png": "[encoded data removed]"
    }
   },
   "cell_type": "markdown",
   "metadata": {},
   "source": [
    "# VF analiza prigušnice za zajedničke smetnje (eng. common-mode choke)\n",
    "\n",
    "Nadomjesna shema za VF analizu prigušnice za zajedničke smetnje:\n",
    "\n",
    "![CM_HF.png](attachment:CM_HF.png)\n",
    "\n",
    "gdje $Z_L$ predstavlja zajedničku impedanciju kabela najčešće u iznosu $35$ $\\Omega$ do $350$ $\\Omega$.\n",
    "\n",
    "Uneseni gubici za zajedničke (CM) smetnje (Ott pp. 152):\n",
    "\n",
    "$IL=Z_L\\sqrt{\\frac{\\left[2R(1-\\omega^2LC_s) \\right]^2+R^4(\\omega C_s)^2}{\\left[ R^2+2R(Z_L-\\omega^2LC_SZ_L)\\right]^2+\\left[2R\\omega L +\\omega C_SR^2Z_L \\right]^2}}$"
   ]
  },
  {
   "cell_type": "code",
   "execution_count": 4,
   "metadata": {},
   "outputs": [],
   "source": [
    "def IL_CM(CS,ZL,L,f,R):\n",
    "    # insertion loss for CM\n",
    "    omega = 2*np.pi*f\n",
    "    nom = (2*R*(1-omega**2*L*CS))**2+R**4*(omega*CS)**2\n",
    "    den = (R**2+2*R*(ZL-omega**2*L*CS*ZL))**2+(2*R*omega*L+omega*CS*R**2*ZL)**2       \n",
    "    IL_CMval = ZL*np.sqrt(nom/den)    \n",
    "    return -20*np.log10(np.abs(IL_CMval))"
   ]
  },
  {
   "cell_type": "code",
   "execution_count": 13,
   "metadata": {},
   "outputs": [
    {
     "data": {
      "application/vnd.jupyter.widget-view+json": {
       "model_id": "3f373367ae4c475eaa55015332f1aef1",
       "version_major": 2,
       "version_minor": 0
      },
      "text/plain": [
       "VBox(children=(Tab(children=(VBox(children=(FloatLogSlider(value=10000000.0, continuous_update=False, descript…"
      ]
     },
     "metadata": {},
     "output_type": "display_data"
    }
   ],
   "source": [
    "%matplotlib inline\n",
    "from ipywidgets import widgets\n",
    "from ipywidgets import Layout\n",
    "import numpy as np\n",
    "import matplotlib.pyplot as plt\n",
    "\n",
    "style = {'description_width': '150px'}\n",
    "fmin = widgets.FloatLogSlider(min=1, max=7, step=1, value=1e7,description='$f_{min}$ [Hz]:',style=style,layout=Layout(width='75%'), continuous_update=False)\n",
    "fmax = widgets.FloatLogSlider(min=8, max=10, step=1, value=100e6,description='$f_{max}$ [Hz]:',style=style,layout=Layout(width='75%'), continuous_update=False)\n",
    "ymin = widgets.FloatSlider(min=0,max=20, step=1, value=0,description='plot $y_{min}$:',readout_format='.4f',style=style,layout=Layout(width='75%'), continuous_update=False)\n",
    "ymax = widgets.FloatSlider(min=30,max=100, step=1, value=40,description='plot $y_{max}$:',readout_format='.1f',style=style,layout=Layout(width='75%'), continuous_update=False)\n",
    "\n",
    "sCS = widgets.FloatSlider(min=1, max=20, step=1, value=5,description='$C_S$ [pF]:',style=style,layout=Layout(width='75%'), continuous_update=False)\n",
    "sZL = widgets.FloatSlider(min=35, max=355, step=5, value=200,description='$Z_L$ [$\\Omega$]:',style=style,layout=Layout(width='75%'), continuous_update=False)\n",
    "sL =  widgets.FloatSlider(min=1, max=25, step=1, value=5,  description='$L$ [uH]:',style=style,layout=Layout(width='75%'), continuous_update=False)\n",
    "sR =  widgets.FloatSlider(min=1, max=10, step=1, value=5,description='$R$ [$\\Omega$]:',style=style,layout=Layout(width='75%'), continuous_update=False)\n",
    "\n",
    "rb = widgets.RadioButtons(options=['Cs', 'L'], description='sweep var.',disabled=False)\n",
    "tnov = widgets.Text(value='1',placeholder='',description='no. of values:',style=style,layout=Layout(width='65%'), continuous_update=False)\n",
    "tmin = widgets.Text(value='0',placeholder='',description='min. sweep:',style=style,layout=Layout(width='65%'), continuous_update=False)\n",
    "tmax = widgets.Text(value='0',placeholder='',description='max. sweep (dotted):',style=style,layout=Layout(width='65%'), continuous_update=False)\n",
    "\n",
    "def f1(fmin, fmax, ymin, ymax, CS, ZL, L, R, rb, tnov, tmin, tmax):    \n",
    "    \n",
    "    f = np.logspace(np.log10(fmin), np.log10(fmax), num=100)    \n",
    "    \n",
    "    if (int(tnov) > 1) and (float(tmax) > float(tmin)):\n",
    "        no_lines = int(tnov)\n",
    "        if rb == 'Cs':\n",
    "            L_m = np.full((1, no_lines), L/1e6).flatten()                        \n",
    "            CS_m = np.linspace(float(tmin)/1e12, float(tmax)/1e12, num=int(tnov))\n",
    "            ZL_m = np.full((1, no_lines), ZL).flatten()        \n",
    "            R_m = np.full((1, no_lines), R).flatten()        \n",
    "        elif rb == 'L':\n",
    "            L_m = np.linspace(float(tmin)/1e6, float(tmax)/1e6, num=int(tnov))\n",
    "            CS_m = np.full((1, no_lines), CS/1e12).flatten()                        \n",
    "            ZL_m = np.full((1, no_lines), ZL).flatten()        \n",
    "            R_m = np.full((1, no_lines), R).flatten()                  \n",
    "    else:\n",
    "        no_lines = 1\n",
    "        L_m = np.array([L/1e6])\n",
    "        CS_m = np.array([CS/1e12])\n",
    "        ZL_m = np.array([ZL])\n",
    "        R_m = np.array([R])           \n",
    "                       \n",
    "    fig = plt.figure(figsize=(12, 8), dpi= 80, facecolor='w', edgecolor='k')     \n",
    "    plt.rcParams.update({'font.size': 18})  \n",
    "    axes = plt.gca()    \n",
    "\n",
    "    axes.set_xscale(\"linear\")\n",
    "    axes.set_yscale(\"linear\")   \n",
    "    plt.sca(axes) \n",
    "    plt.xlabel('Frequency [MHz]')\n",
    "    plt.ylabel('Insertion loss [dB]')        \n",
    "\n",
    "    requirement = 0    \n",
    "    for i in range(no_lines):            \n",
    "        IL_CMval = IL_CM(CS_m[i],ZL_m[i],L_m[i],f,R_m[i])            \n",
    "        if (i == no_lines-1) and (no_lines > 1):\n",
    "            axes.plot(f/1e6, IL_CMval, linestyle=':')                       \n",
    "        else:\n",
    "            axes.plot(f/1e6, IL_CMval, linestyle='-')                                               \n",
    "\n",
    "        plt.sca(axes) \n",
    "        plt.grid(axis='both')               \n",
    "        plt.ylim(bottom = ymin, top = ymax)                  \n",
    "     \n",
    "out = widgets.interactive_output(f1, \n",
    "                                 {'fmin': fmin, 'fmax': fmax, 'ymin': ymin, 'ymax': ymax, \n",
    "                                  'CS': sCS, 'ZL': sZL, 'L': sL, 'R': sR, 'rb': rb, \n",
    "                                  'tnov': tnov, 'tmin': tmin, 'tmax': tmax})\n",
    "\n",
    "tab1 = widgets.VBox(children=[fmin,fmax, ymin, ymax])\n",
    "tab2 = widgets.VBox(children=[sCS,sZL,sL,sR,widgets.HBox(children=[rb,widgets.VBox(children=[tnov,tmin,tmax])])])\n",
    "\n",
    "tab = widgets.Tab(children=[tab1, tab2])\n",
    "tab.set_title(0, 'plot')\n",
    "tab.set_title(1, 'parameters')\n",
    "\n",
    "widgets.VBox([tab, out])"
   ]
  }
 ],
 "metadata": {
  "kernelspec": {
   "display_name": "Python 3",
   "language": "python",
   "name": "python3"
  },
  "language_info": {
   "codemirror_mode": {
    "name": "ipython",
    "version": 3
   },
   "file_extension": ".py",
   "mimetype": "text/x-python",
   "name": "python",
   "nbconvert_exporter": "python",
   "pygments_lexer": "ipython3",
   "version": "3.6.7"
  }
 },
 "nbformat": 4,
 "nbformat_minor": 2
}
