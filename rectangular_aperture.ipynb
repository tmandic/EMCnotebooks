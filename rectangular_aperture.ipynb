{
 "cells": [
  {
   "cell_type": "markdown",
   "metadata": {},
   "source": [
    "# Učinkovitost oklapanja\n",
    "\n",
    "Učinkovitost oklapanja za pravokutni otvor, odnosno za slot antenu, ovisi o frekvenciji i duljini otvora. Maksimalna učinkovitost antene (najlošije oklapanje) ostvaruje se kada je $l=~\\lambda/2$. Ukoliko se na toj frekvenciji definira učinkovitost oklapanja $S=0~\\mathrm{dB}$, tada za linearnu dimenziju otvora $l \\leq \\lambda/2$ može se pisati\n",
    "\n",
    "$S=20\\log(\\frac{\\lambda}{2l})~\\mathrm{[dB]}$.\n",
    "\n",
    "Ukoliko postoji više otvora jednakih dimenzija linearno raspoređenih na površini manjoj od $\\lambda/2$ tada se učinkovitost oklapanja smanjuje u ovisnosti o njihovom broju $n$,\n",
    "\n",
    "$S=20\\log(\\frac{\\lambda}{2l})-20\\log(\\sqrt n)~\\mathrm{[dB]}$.\n",
    "\n",
    "\n",
    "\n",
    "\n"
   ]
  },
  {
   "cell_type": "code",
   "execution_count": 1,
   "metadata": {},
   "outputs": [],
   "source": [
    "def SE(l,f,n):        \n",
    "    l = l/1000\n",
    "    lmbda = 3e8/f\n",
    "    S = 20*np.log10(lmbda/(2*l))-20*np.log10(np.sqrt(n))    \n",
    "    return S"
   ]
  },
  {
   "cell_type": "code",
   "execution_count": 4,
   "metadata": {},
   "outputs": [
    {
     "data": {
      "application/vnd.jupyter.widget-view+json": {
       "model_id": "5f9797f6590546ca8a712c20740be530",
       "version_major": 2,
       "version_minor": 0
      },
      "text/plain": [
       "interactive(children=(FloatLogSlider(value=100000.0, continuous_update=False, description='$f_{min}$ [Hz]:', l…"
      ]
     },
     "metadata": {},
     "output_type": "display_data"
    }
   ],
   "source": [
    "%matplotlib inline\n",
    "from ipywidgets import interact, interactive, fixed, interact_manual, FloatLogSlider, FloatSlider, Layout, Dropdown\n",
    "import matplotlib.pyplot as plt\n",
    "import numpy as np\n",
    "\n",
    "def f1(min_f, max_f, l, n):\n",
    "    \n",
    "    f = np.logspace(np.log10(min_f), np.log10(max_f), num=100)\n",
    "        \n",
    "    S = SE(l,f,n)        \n",
    "    \n",
    "    fig = plt.figure(figsize=(12, 8), dpi= 80, facecolor='w', edgecolor='k')     \n",
    "    plt.rcParams.update({'font.size': 18})  \n",
    "    axes = plt.gca()\n",
    "    \n",
    "    axes.set_xscale(\"log\")\n",
    "    axes.set_yscale(\"linear\")\n",
    "    \n",
    "    axes.plot(f, S, linestyle='-')   \n",
    "    \n",
    "    plt.grid(True,which=\"both\",ls=\":\")\n",
    "    plt.xlabel('Frequency [Hz]')\n",
    "    plt.ylabel('S [dB]')\n",
    "    plt.ylim(bottom = 0, top = 90)  \n",
    "     \n",
    "style = {'description_width': '150px'}\n",
    "\n",
    "s_min_f = FloatLogSlider(min=3, max=5, step=1, value=1e5,description='$f_{min}$ [Hz]:',style=style,layout=Layout(width='75%'), continuous_update=False)\n",
    "s_max_f = FloatLogSlider(min=6, max=9, step=1, value=1e9,description='$f_{max}$ [Hz]:',style=style,layout=Layout(width='75%'), continuous_update=False)\n",
    "s_l = FloatSlider(value=20,min=10,max=100,step=2,description='length [mm]:',readout_format='.1f',style=style,layout=Layout(width='75%'), continuous_update=False)\n",
    "s_n = FloatSlider(value=5,min=1,max=30.0,step=1,description='apertures no.:',readout_format='.1f',style=style,layout=Layout(width='75%'), continuous_update=False)\n",
    "\n",
    "interactive_plot1 = interactive(f1, min_f=s_min_f, max_f=s_max_f, l=s_l, n=s_n)\n",
    "\n",
    "\n",
    "#output = interactive_plot.children[-1]\n",
    "#output.layout.height = '1050px'\n",
    "interactive_plot1"
   ]
  }
 ],
 "metadata": {
  "kernelspec": {
   "display_name": "Python 3",
   "language": "python",
   "name": "python3"
  },
  "language_info": {
   "codemirror_mode": {
    "name": "ipython",
    "version": 3
   },
   "file_extension": ".py",
   "mimetype": "text/x-python",
   "name": "python",
   "nbconvert_exporter": "python",
   "pygments_lexer": "ipython3",
   "version": "3.6.7"
  }
 },
 "nbformat": 4,
 "nbformat_minor": 2
}
